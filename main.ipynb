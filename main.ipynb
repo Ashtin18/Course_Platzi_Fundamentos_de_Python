{
  "cells": [
    {
      "cell_type": "markdown",
      "metadata": {
        "id": "C07wpdrPLLMJ"
      },
      "source": [
        "PROYECTO FUNDAMENTOS DE PYTHON"
      ]
    },
    {
      "cell_type": "code",
      "execution_count": 43,
      "metadata": {
        "colab": {
          "base_uri": "https://localhost:8080/",
          "height": 970
        },
        "id": "VleCAneDLRK6",
        "outputId": "7f9b491d-e3ee-4393-d185-130dba81f3d1"
      },
      "outputs": [
        {
          "output_type": "stream",
          "name": "stdout",
          "text": [
            "BIENVENIDO AL TORNEO DE PIEDRA PAPEL O TIJERA PARA PLATZI\n",
            "~~~ Ingrese el nombre del participante: Ashtin\n",
            "RockBot ~~~ Piedra papel o metal? 🤖🤖🤖\n",
            "\n",
            "----- RONDA NUMERO 1 🤑🤑 -----\n",
            "\n",
            "Piedra [1]\n",
            "Papel  [2]\n",
            "Tijera [3]\n",
            "Make a choose: 2\n",
            "🤖 RockBot .\n",
            "🤖 RockBot ..\n",
            "🤖 RockBot ...\n",
            "\n",
            "Elegiste: *** Papel ***\tvs\t🤖 RockBot: *** Tijera ***\n",
            "VIDAS Ashtin: 2\tVIDAS BOT: 3\n",
            "\n",
            "----- RONDA NUMERO 2 🤑🤑 -----\n",
            "\n",
            "Piedra [1]\n",
            "Papel  [2]\n",
            "Tijera [3]\n",
            "Make a choose: 3\n",
            "🤖 RockBot .\n",
            "🤖 RockBot ..\n",
            "🤖 RockBot ...\n",
            "\n",
            "Elegiste: *** Tijera ***\tvs\t🤖 RockBot: *** Tijera ***\n",
            "EMPATE\n",
            "\n",
            "VIDAS Ashtin: 2\tVIDAS BOT: 3\n",
            "\n",
            "----- RONDA NUMERO 3 🤑🤑 -----\n",
            "\n"
          ]
        },
        {
          "output_type": "error",
          "ename": "KeyboardInterrupt",
          "evalue": "ignored",
          "traceback": [
            "\u001b[0;31m---------------------------------------------------------------------------\u001b[0m",
            "\u001b[0;31mKeyboardInterrupt\u001b[0m                         Traceback (most recent call last)",
            "\u001b[0;32m<ipython-input-43-17bdc4c2d279>\u001b[0m in \u001b[0;36m<module>\u001b[0;34m\u001b[0m\n\u001b[1;32m     25\u001b[0m \u001b[0;32mwhile\u001b[0m \u001b[0mlives\u001b[0m \u001b[0;34m!=\u001b[0m \u001b[0;36m0\u001b[0m \u001b[0;32mor\u001b[0m \u001b[0mlives_bot\u001b[0m \u001b[0;34m!=\u001b[0m\u001b[0;36m0\u001b[0m\u001b[0;34m:\u001b[0m\u001b[0;34m\u001b[0m\u001b[0;34m\u001b[0m\u001b[0m\n\u001b[1;32m     26\u001b[0m   \u001b[0mprint\u001b[0m\u001b[0;34m(\u001b[0m\u001b[0;34mf\"\\n----- RONDA NUMERO {round} 🤑🤑 -----\\n\"\u001b[0m\u001b[0;34m)\u001b[0m\u001b[0;34m\u001b[0m\u001b[0;34m\u001b[0m\u001b[0m\n\u001b[0;32m---> 27\u001b[0;31m   \u001b[0mlaunch_1\u001b[0m \u001b[0;34m=\u001b[0m \u001b[0minput\u001b[0m\u001b[0;34m(\u001b[0m\u001b[0;34m\"Piedra [1]\\nPapel  [2]\\nTijera [3]\\nMake a choose: \"\u001b[0m\u001b[0;34m)\u001b[0m\u001b[0;34m\u001b[0m\u001b[0;34m\u001b[0m\u001b[0m\n\u001b[0m\u001b[1;32m     28\u001b[0m   \u001b[0;32mif\u001b[0m \u001b[0mlaunch_1\u001b[0m \u001b[0;34m==\u001b[0m \u001b[0;34m\"1\"\u001b[0m\u001b[0;34m:\u001b[0m\u001b[0;34m\u001b[0m\u001b[0;34m\u001b[0m\u001b[0m\n\u001b[1;32m     29\u001b[0m     \u001b[0mscore_1\u001b[0m \u001b[0;34m=\u001b[0m \u001b[0;34m\"Piedra\"\u001b[0m\u001b[0;34m\u001b[0m\u001b[0;34m\u001b[0m\u001b[0m\n",
            "\u001b[0;32m/usr/local/lib/python3.8/dist-packages/ipykernel/kernelbase.py\u001b[0m in \u001b[0;36mraw_input\u001b[0;34m(self, prompt)\u001b[0m\n\u001b[1;32m    858\u001b[0m                 \u001b[0;34m\"raw_input was called, but this frontend does not support input requests.\"\u001b[0m\u001b[0;34m\u001b[0m\u001b[0;34m\u001b[0m\u001b[0m\n\u001b[1;32m    859\u001b[0m             )\n\u001b[0;32m--> 860\u001b[0;31m         return self._input_request(str(prompt),\n\u001b[0m\u001b[1;32m    861\u001b[0m             \u001b[0mself\u001b[0m\u001b[0;34m.\u001b[0m\u001b[0m_parent_ident\u001b[0m\u001b[0;34m,\u001b[0m\u001b[0;34m\u001b[0m\u001b[0;34m\u001b[0m\u001b[0m\n\u001b[1;32m    862\u001b[0m             \u001b[0mself\u001b[0m\u001b[0;34m.\u001b[0m\u001b[0m_parent_header\u001b[0m\u001b[0;34m,\u001b[0m\u001b[0;34m\u001b[0m\u001b[0;34m\u001b[0m\u001b[0m\n",
            "\u001b[0;32m/usr/local/lib/python3.8/dist-packages/ipykernel/kernelbase.py\u001b[0m in \u001b[0;36m_input_request\u001b[0;34m(self, prompt, ident, parent, password)\u001b[0m\n\u001b[1;32m    902\u001b[0m             \u001b[0;32mexcept\u001b[0m \u001b[0mKeyboardInterrupt\u001b[0m\u001b[0;34m:\u001b[0m\u001b[0;34m\u001b[0m\u001b[0;34m\u001b[0m\u001b[0m\n\u001b[1;32m    903\u001b[0m                 \u001b[0;31m# re-raise KeyboardInterrupt, to truncate traceback\u001b[0m\u001b[0;34m\u001b[0m\u001b[0;34m\u001b[0m\u001b[0;34m\u001b[0m\u001b[0m\n\u001b[0;32m--> 904\u001b[0;31m                 \u001b[0;32mraise\u001b[0m \u001b[0mKeyboardInterrupt\u001b[0m\u001b[0;34m(\u001b[0m\u001b[0;34m\"Interrupted by user\"\u001b[0m\u001b[0;34m)\u001b[0m \u001b[0;32mfrom\u001b[0m \u001b[0;32mNone\u001b[0m\u001b[0;34m\u001b[0m\u001b[0;34m\u001b[0m\u001b[0m\n\u001b[0m\u001b[1;32m    905\u001b[0m             \u001b[0;32mexcept\u001b[0m \u001b[0mException\u001b[0m \u001b[0;32mas\u001b[0m \u001b[0me\u001b[0m\u001b[0;34m:\u001b[0m\u001b[0;34m\u001b[0m\u001b[0;34m\u001b[0m\u001b[0m\n\u001b[1;32m    906\u001b[0m                 \u001b[0mself\u001b[0m\u001b[0;34m.\u001b[0m\u001b[0mlog\u001b[0m\u001b[0;34m.\u001b[0m\u001b[0mwarning\u001b[0m\u001b[0;34m(\u001b[0m\u001b[0;34m\"Invalid Message:\"\u001b[0m\u001b[0;34m,\u001b[0m \u001b[0mexc_info\u001b[0m\u001b[0;34m=\u001b[0m\u001b[0;32mTrue\u001b[0m\u001b[0;34m)\u001b[0m\u001b[0;34m\u001b[0m\u001b[0;34m\u001b[0m\u001b[0m\n",
            "\u001b[0;31mKeyboardInterrupt\u001b[0m: Interrupted by user"
          ]
        }
      ],
      "source": [
        "import random\n",
        "import time\n",
        "\n",
        "print(\"BIENVENIDO AL TORNEO DE PIEDRA PAPEL O TIJERA PARA PLATZI\")\n",
        "\n",
        "# Creacion de variables para el proyecto\n",
        "lives = 3\n",
        "lives_bot = 3\n",
        "round = 1\n",
        "name_1 = \"User1\"\n",
        "launch_1 = \"\"\n",
        "launch_2 = \"\"\n",
        "score_1 = \"\"\n",
        "score_2 = \"\"\n",
        "\n",
        "# Valores del piedra papel o tijera\n",
        "piedra = 1\n",
        "papel = 2\n",
        "tijera = 3\n",
        "\n",
        "# Se solicitan los nombres de los usuarios\n",
        "name_1 = input(\"~~~ Ingrese el nombre del participante: \")\n",
        "print(\"RockBot ~~~ Piedra papel o metal? 🤖🤖🤖\")\n",
        "\n",
        "while lives != 0 or lives_bot !=0:\n",
        "  print(f\"\\n----- RONDA NUMERO {round} 🤑🤑 -----\\n\")\n",
        "  launch_1 = input(\"Piedra [1]\\nPapel  [2]\\nTijera [3]\\nElige una opción: \")\n",
        "  if launch_1 == \"1\":\n",
        "    score_1 = \"Piedra\"\n",
        "  if launch_1 == \"2\":\n",
        "    score_1 = \"Papel\"\n",
        "  if launch_1 == \"3\":\n",
        "    score_1 = \"Tijera\"\n",
        "\n",
        "  time.sleep(2)\n",
        "  print(\"🤖 RockBot .\")\n",
        "  time.sleep(1)\n",
        "  print(\"🤖 RockBot ..\")\n",
        "  time.sleep(1)\n",
        "  print(\"🤖 RockBot ...\")\n",
        "  time.sleep(1)\n",
        "\n",
        "  launch_2 = random.randint(0,3)\n",
        "  if launch_2 == 1:\n",
        "    score_2 = \"Piedra\"\n",
        "  if launch_2 == 2:\n",
        "    score_2 = \"Papel\"\n",
        "  else:\n",
        "    score_2 = \"Tijera\"\n",
        "\n",
        "  print(f\"\\nElegiste: *** {score_1} ***\\tvs\\t🤖 RockBot: *** {score_2} ***\")\n",
        "\n",
        "  while 1 == 1: \n",
        "    if score_1 == score_2:\n",
        "      print(\"EMPATE\\n\")\n",
        "      break\n",
        "    if score_1 == \"Piedra\" and score_2 == \"Tijera\":\n",
        "      lives_bot -= 1\n",
        "      break\n",
        "    elif  score_1 == \"Papel\" and score_2 == \"Piedra\":\n",
        "      lives_bot -= 1\n",
        "      break\n",
        "    elif score_1 == \"Tijera\" and score_2 == \"Papel\":\n",
        "      lives_bot -= 1\n",
        "      break\n",
        "    else:\n",
        "      lives -= 1\n",
        "      break\n",
        "\n",
        "  print(f\"VIDAS {name_1}: {lives}\\tVIDAS BOT: {lives_bot}\")\n",
        "  round += 1\n",
        "  time.sleep(2)\n",
        "\n",
        "if lives_bot == 0:\n",
        "  print(f\"GANA {name_1}\")\n",
        "else:\n",
        "  print(\"GANA 🤖RockBot\")"
      ]
    }
  ],
  "metadata": {
    "colab": {
      "provenance": []
    },
    "kernelspec": {
      "display_name": "Python 3",
      "name": "python3"
    },
    "language_info": {
      "name": "python"
    }
  },
  "nbformat": 4,
  "nbformat_minor": 0
}